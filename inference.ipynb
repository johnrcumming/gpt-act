version https://git-lfs.github.com/spec/v1
oid sha256:1dec839b3d486cc71cd7a426ae1ac11e0368e35b361c5a81a41d9e2a747804ed
size 42544
